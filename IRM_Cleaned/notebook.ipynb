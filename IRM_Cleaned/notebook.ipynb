{
 "cells": [
  {
   "cell_type": "markdown",
   "id": "ef4758bf",
   "metadata": {},
   "source": [
    "# MRI and CSF Mask Processing Playground\n",
    "\n",
    "## Table of Contents\n",
    "\n",
    "1. [Introduction](#Introduction)\n",
    "2. [Setup](#Setup)\n",
    "3. [Loading and Denoising MRI Data](#Loading-and-Denoising-MRI-Data)\n",
    "4. [Intensity Normalization](#Intensity-Normalization)\n",
    "5. [Feature Extraction](#Feature-Extraction)\n",
    "6. [Clustering with K-Means](#Clustering-with-K-Means)\n",
    "7. [Morphological Operations](#Morphological-Operations)\n",
    "8. [Visualization](#Visualization)\n",
    "9. [Saving Outputs](#Saving-Outputs)\n",
    "10. [Conclusion](#Conclusion)\n"
   ]
  },
  {
   "cell_type": "markdown",
   "id": "72800d12",
   "metadata": {},
   "source": [
    "## Introduction\n",
    "\n",
    "Welcome to the **MRI and CSF Mask Processing Playground**! This notebook provides an interactive environment to explore and experiment with the processing pipeline designed for MRI data and CSF mask segmentation. You can run individual cells to execute specific parts of the pipeline, visualize intermediate results, and tweak parameters as needed."
   ]
  },
  {
   "cell_type": "markdown",
   "id": "89cf5a17",
   "metadata": {},
   "source": [
    "## Setup\n",
    "\n",
    "### 1. Importing Necessary Libraries\n",
    "\n",
    "First, ensure that all required libraries are installed. If not, you can install them directly from the notebook using `pip`."
   ]
  },
  {
   "cell_type": "code",
   "execution_count": null,
   "id": "e3cd8dd9",
   "metadata": {},
   "outputs": [],
   "source": [
    "# Install required packages if not already installed\n",
    "!pip install -r requirements.txt"
   ]
  },
  {
   "cell_type": "markdown",
   "id": "d73ba558",
   "metadata": {},
   "source": [
    "### 2. Importing Modules\n",
    "\n",
    "Import the necessary modules from your project. Ensure that your project's root directory is in the Python path so that the notebook can access `utils.py` and `config.py`."
   ]
  },
  {
   "cell_type": "code",
   "execution_count": null,
   "id": "69ffb14d",
   "metadata": {},
   "outputs": [],
   "source": [
    "import sys\n",
    "import os\n",
    "\n",
    "# Add the project directory to the Python path\n",
    "project_dir = os.path.abspath(os.path.join('..'))  # Adjust the path if necessary\n",
    "if project_dir not in sys.path:\n",
    "    sys.path.insert(0, project_dir)\n",
    "\n",
    "import numpy as np\n",
    "import matplotlib.pyplot as plt\n",
    "import pandas as pd\n",
    "import seaborn as sns\n",
    "from tqdm import tqdm\n",
    "\n",
    "# Import utility functions and configurations\n",
    "from utils import (\n",
    "    load_image,\n",
    "    denoise_image,\n",
    "    normalize_intensity,\n",
    "    compute_neighborhood_statistics,\n",
    "    visualize_feature_distributions,\n",
    "    analyze_feature_distributions,\n",
    "    perform_kmeans,\n",
    "    create_refined_masks,\n",
    "    plot_refined_masks_on_slices,\n",
    "    visualize_and_save_html,\n",
    "    extract_and_decimate_meshes\n",
    ")\n",
    "from config import (\n",
    "    ORIGINAL_MRI_PATH,\n",
    "    DENOISED_TIFF_PATH,\n",
    "    MASKS_DIR,\n",
    "    OUTPUT_HTML,\n",
    "    OUTPUT_SLICES_DIR,\n",
    "    K,\n",
    "    BATCH_SIZE,\n",
    "    STRUCTURING_ELEMENT_RADIUS,\n",
    "    MIN_SIZE\n",
    ")"
   ]
  },
  {
   "cell_type": "markdown",
   "id": "1db4e6e6",
   "metadata": {},
   "source": [
    "### 3. Setting Up Logging (Optional)\n",
    "\n",
    "If you wish to enable logging within the notebook, set the logging parameters accordingly. This can help in monitoring the execution and memory usage."
   ]
  },
  {
   "cell_type": "code",
   "execution_count": null,
   "id": "2ae06376",
   "metadata": {},
   "outputs": [],
   "source": [
    "# Enable logging if desired\n",
    "enable_logging = True\n",
    "log_file = 'logs/execution.log'\n",
    "\n",
    "if enable_logging:\n",
    "    import logging\n",
    "    setup_logging(enable_logging, log_file)"
   ]
  },
  {
   "cell_type": "markdown",
   "id": "36191982",
   "metadata": {},
   "source": [
    "<hr>"
   ]
  },
  {
   "cell_type": "markdown",
   "id": "95ef0fb5",
   "metadata": {},
   "source": [
    "## Loading and Denoising MRI Data\n",
    "\n",
    "### 1. Loading the Original MRI Image\n",
    "\n",
    "Load the original MRI image using the `load_image` function from `utils.py`."
   ]
  },
  {
   "cell_type": "code",
   "execution_count": null,
   "id": "114a1405",
   "metadata": {},
   "outputs": [],
   "source": [
    "# Load the original MRI image\n",
    "original_img = load_image(ORIGINAL_MRI_PATH)"
   ]
  },
  {
   "cell_type": "markdown",
   "id": "9ca1d448",
   "metadata": {},
   "source": [
    "### 2. Denoising the MRI Image\n",
    "\n",
    "Denoise the loaded MRI image. If a denoised image already exists, it will be loaded; otherwise, the denoising process will be performed."
   ]
  },
  {
   "cell_type": "code",
   "execution_count": null,
   "id": "3381d188",
   "metadata": {},
   "outputs": [],
   "source": [
    "# Denoise the MRI image\n",
    "denoised_img = denoise_image(original_img, DENOISED_TIFF_PATH)"
   ]
  },
  {
   "cell_type": "markdown",
   "id": "7ed85ed0",
   "metadata": {},
   "source": [
    "<hr>"
   ]
  },
  {
   "cell_type": "markdown",
   "id": "07a64170",
   "metadata": {},
   "source": [
    "## Intensity Normalization\n",
    "\n",
    "Normalize the intensity of the denoised MRI image to ensure consistent analysis."
   ]
  },
  {
   "cell_type": "code",
   "execution_count": null,
   "id": "f8484d0c",
   "metadata": {},
   "outputs": [],
   "source": [
    "# Normalize the intensity of the denoised image\n",
    "denoised_img_normalized = normalize_intensity(denoised_img)"
   ]
  },
  {
   "cell_type": "markdown",
   "id": "c1c010c7",
   "metadata": {},
   "source": [
    "### 1. Visualizing a Normalized Slice\n",
    "\n",
    "Plot a specific slice (e.g., slice index 90) to visualize the normalization effect."
   ]
  },
  {
   "cell_type": "code",
   "execution_count": null,
   "id": "fb61bfd8",
   "metadata": {},
   "outputs": [],
   "source": [
    "# Define the slice index to visualize\n",
    "slice_index = 90  # Adjust based on your data\n",
    "\n",
    "# Plot the normalized slice\n",
    "if slice_index < denoised_img_normalized.shape[0]:\n",
    "    plt.figure(figsize=(6, 6))\n",
    "    plt.imshow(denoised_img_normalized[slice_index], cmap='gray')\n",
    "    plt.title(f'Normalized Denoised MRI Slice {slice_index}')\n",
    "    plt.axis('off')\n",
    "    plt.show()\n",
    "else:\n",
    "    print(f\"Slice index {slice_index} is out of bounds for image with {denoised_img_normalized.shape[0]} slices.\")"
   ]
  },
  {
   "cell_type": "markdown",
   "id": "e0a3d72f",
   "metadata": {},
   "source": [
    "<hr>"
   ]
  },
  {
   "cell_type": "markdown",
   "id": "305b981a",
   "metadata": {},
   "source": [
    "## Feature Extraction\n",
    "\n",
    "### 1. Computing Neighborhood Statistics\n",
    "\n",
    "Compute the neighborhood mean and variance for each voxel to enhance feature representation."
   ]
  },
  {
   "cell_type": "code",
   "execution_count": null,
   "id": "bc08f4e6",
   "metadata": {},
   "outputs": [],
   "source": [
    "# Compute neighborhood statistics\n",
    "neighborhood_size = 3  # 3x3x3 neighborhood\n",
    "neighborhood_mean, neighborhood_variance = compute_neighborhood_statistics(\n",
    "    denoised_img_normalized,\n",
    "    neighborhood_size=neighborhood_size\n",
    ")"
   ]
  },
  {
   "cell_type": "markdown",
   "id": "f9012ae2",
   "metadata": {},
   "source": [
    "### 2. Preparing Features for Clustering\n",
    "\n",
    "Flatten and combine the intensity, neighborhood mean, and variance into a feature matrix suitable for K-Means clustering."
   ]
  },
  {
   "cell_type": "code",
   "execution_count": null,
   "id": "ee847b8b",
   "metadata": {},
   "outputs": [],
   "source": [
    "# Prepare features for K-Means\n",
    "print(\"Preparing features for K-Means clustering...\")\n",
    "logging.info(\"Preparing features for K-Means clustering.\")\n",
    "\n",
    "intensity_flat = denoised_img_normalized.flatten().reshape(-1, 1)\n",
    "mean_flat = neighborhood_mean.flatten().reshape(-1, 1)\n",
    "variance_flat = neighborhood_variance.flatten().reshape(-1, 1)\n",
    "\n",
    "features = np.hstack((intensity_flat, mean_flat, variance_flat)).astype(np.float32)\n",
    "print(f\"Features shape: {features.shape}\")\n",
    "logging.info(f\"Features shape: {features.shape}\")\n",
    "print_memory_usage()\n",
    "log_memory_usage()"
   ]
  },
  {
   "cell_type": "markdown",
   "id": "9a83cd3c",
   "metadata": {},
   "source": [
    "### 3. Visualizing Feature Distributions\n",
    "\n",
    "Plot the distributions of the extracted features to understand their characteristics."
   ]
  },
  {
   "cell_type": "code",
   "execution_count": null,
   "id": "ab3a7f71",
   "metadata": {},
   "outputs": [],
   "source": [
    "# Visualize feature distributions\n",
    "visualize_feature_distributions(features)"
   ]
  },
  {
   "cell_type": "markdown",
   "id": "bd0bd7e1",
   "metadata": {},
   "source": [
    "### 4. Analyzing Feature Relationships\n",
    "\n",
    "Use Seaborn's pairplot to analyze the relationships between different features."
   ]
  },
  {
   "cell_type": "code",
   "execution_count": null,
   "id": "1f337f9b",
   "metadata": {},
   "outputs": [],
   "source": [
    "# Analyze feature distributions with pairplot\n",
    "analyze_feature_distributions(features)"
   ]
  },
  {
   "cell_type": "markdown",
   "id": "e5c3cf4b",
   "metadata": {},
   "source": [
    "<hr>"
   ]
  },
  {
   "cell_type": "markdown",
   "id": "7e0c86c1",
   "metadata": {},
   "source": [
    "## Clustering with K-Means\n",
    "\n",
    "### 1. Performing K-Means Clustering\n",
    "\n",
    "Apply MiniBatch K-Means to segment the MRI data into distinct clusters."
   ]
  },
  {
   "cell_type": "code",
   "execution_count": null,
   "id": "ec6880f7",
   "metadata": {},
   "outputs": [],
   "source": [
    "# Perform K-Means clustering\n",
    "kmeans = perform_kmeans(features, k=K, batch_size=BATCH_SIZE)\n",
    "\n",
    "# Retrieve cluster labels\n",
    "labels = kmeans.labels_\n",
    "\n",
    "# Reshape labels back to the original image dimensions\n",
    "clustered_img = labels.reshape(denoised_img_normalized.shape)\n",
    "print(\"Cluster labels reshaped to image dimensions.\")\n",
    "logging.info(\"Cluster labels reshaped to image dimensions.\")"
   ]
  },
  {
   "cell_type": "markdown",
   "id": "a0fe97e4",
   "metadata": {},
   "source": [
    "<hr>"
   ]
  },
  {
   "cell_type": "markdown",
   "id": "4b5454d0",
   "metadata": {},
   "source": [
    "## Morphological Operations\n",
    "\n",
    "### 1. Creating Refined Masks\n",
    "\n",
    "Apply morphological operations to each cluster mask to remove small artifacts and fill holes."
   ]
  },
  {
   "cell_type": "code",
   "execution_count": null,
   "id": "16c98c89",
   "metadata": {},
   "outputs": [],
   "source": [
    "# Define the structuring element\n",
    "from skimage.morphology import ball\n",
    "\n",
    "selem = ball(STRUCTURING_ELEMENT_RADIUS)\n",
    "\n",
    "# Create and refine masks for all clusters\n",
    "refined_masks, csf_cluster = create_refined_masks(\n",
    "    clustered_img,\n",
    "    denoised_img_normalized,\n",
    "    k=K,\n",
    "    selem=selem,\n",
    "    min_size=MIN_SIZE,\n",
    "    masks_dir=MASKS_DIR\n",
    ")"
   ]
  },
  {
   "cell_type": "markdown",
   "id": "974a2aa7",
   "metadata": {},
   "source": [
    "### 2. Visualizing Refined Masks on Slices\n",
    "\n",
    "Overlay the refined masks onto a specific slice for visualization."
   ]
  },
  {
   "cell_type": "code",
   "execution_count": null,
   "id": "1c98c09e",
   "metadata": {},
   "outputs": [],
   "source": [
    "# Define the slice index to visualize\n",
    "slice_index = 90  # Adjust based on your data\n",
    "\n",
    "# Plot refined masks overlaid on the specified slice\n",
    "plot_refined_masks_on_slices(refined_masks, denoised_img_normalized, slice_index, K)"
   ]
  },
  {
   "cell_type": "markdown",
   "id": "bfe38d46",
   "metadata": {},
   "source": [
    "<hr>"
   ]
  },
  {
   "cell_type": "markdown",
   "id": "a8a37dd0",
   "metadata": {},
   "source": [
    "## Visualization\n",
    "\n",
    "### 1. Visualizing and Saving as HTML\n",
    "\n",
    "Generate an interactive 3D visualization of the Original MRI, Denoised MRI, and refined CSF masks. Save the visualization as an HTML file for easy sharing and exploration."
   ]
  },
  {
   "cell_type": "code",
   "execution_count": null,
   "id": "d49a2ed3",
   "metadata": {},
   "outputs": [],
   "source": [
    "# Visualize and save as HTML\n",
    "visualize_and_save_html(\n",
    "    original_img,\n",
    "    denoised_img_normalized,\n",
    "    refined_masks,\n",
    "    K,\n",
    "    OUTPUT_HTML\n",
    ")"
   ]
  },
  {
   "cell_type": "markdown",
   "id": "ef778849",
   "metadata": {},
   "source": [
    "<hr>"
   ]
  },
  {
   "cell_type": "markdown",
   "id": "34039af1",
   "metadata": {},
   "source": [
    "## Saving Outputs\n",
    "\n",
    "### 1. Saving Specific Slices (Optional)\n",
    "\n",
    "If you wish to save specific slices with overlayed masks, you can use the `plot_refined_masks_on_slices` function. This step was already performed in the **Morphological Operations** section. However, if you have additional slices to save, you can adjust the slice indices accordingly."
   ]
  },
  {
   "cell_type": "code",
   "execution_count": null,
   "id": "597a1df5",
   "metadata": {},
   "outputs": [],
   "source": [
    "# Example: Save an additional slice\n",
    "additional_slice_index = 120  # Adjust based on your data\n",
    "plot_refined_masks_on_slices(refined_masks, denoised_img_normalized, additional_slice_index, K)"
   ]
  },
  {
   "cell_type": "markdown",
   "id": "23bf72e1",
   "metadata": {},
   "source": [
    "<hr>"
   ]
  }
 ],
 "metadata": {
  "kernelspec": {
   "display_name": "Python 3",
   "language": "python",
   "name": "python3"
  },
  "language_info": {
   "codemirror_mode": {
    "name": "ipython",
    "version": 3
   },
   "file_extension": ".py",
   "mimetype": "text/x-python",
   "name": "python",
   "nbconvert_exporter": "python",
   "pygments_lexer": "ipython3",
   "version": "3.8.5"
  }
 },
 "nbformat": 4,
 "nbformat_minor": 5
}
